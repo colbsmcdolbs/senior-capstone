{
 "cells": [
  {
   "cell_type": "code",
   "execution_count": 2,
   "metadata": {},
   "outputs": [],
   "source": [
    "## Import all of our necessary libraries\n",
    "import pandas as pd\n",
    "import numpy as np\n",
    "from sklearn.model_selection import train_test_split\n",
    "from sklearn.ensemble import RandomForestClassifier"
   ]
  },
  {
   "cell_type": "code",
   "execution_count": 3,
   "metadata": {},
   "outputs": [],
   "source": [
    "## Read in our data from the CSV file and then look at the top five values\n",
    "data = pd.read_csv('data.csv')\n",
    "\n",
    "data.head(5)"
   ]
  },
  {
   "cell_type": "code",
   "execution_count": 3,
   "metadata": {},
   "outputs": [],
   "source": [
    "## Look at some stats on our data\n",
    "data.describe()"
   ]
  },
  {
   "cell_type": "code",
   "execution_count": 4,
   "metadata": {},
   "outputs": [],
   "source": [
    "## Remove the columns that are not necessary for us\n",
    "data.pop('fnlwgt')\n",
    "data.pop('capital-gain')\n",
    "data.pop('capital-loss')\n",
    "\n",
    "data.head(5)\n",
    "## Looking better now!"
   ]
  },
  {
   "cell_type": "code",
   "execution_count": 5,
   "metadata": {},
   "outputs": [],
   "source": [
    "## Create some Data Visualizations\n",
    "import matplotlib.pyplot as plt\n",
    "import seaborn as sns\n",
    "\n",
    "data_matrix = data.pivot_table(index='race', columns='educational-num', values='income_>50K')\n",
    "\n",
    "data_matrix.head()\n",
    "\n",
    "fig = plt.figure(figsize=(15,5))\n",
    "heat_map = sns.heatmap(data_matrix)\n",
    "heat_map.set_title(\"Heatmap of Higher Salary pairing Race and Highest Level of Education Completed\")\n",
    "heat_map.set_xlabel(\"Highest Education Completed (As Number)\")\n",
    "heat_map.set_ylabel(\"Race\")\n",
    "\n",
    "## Uncomment the two lines below if you wish to save the graph as an image\n",
    "##graph = heat_map.get_figure()\n",
    "##graph.savefig(\"heatmap.png\") "
   ]
  },
  {
   "cell_type": "code",
   "execution_count": 9,
   "metadata": {
    "scrolled": true
   },
   "outputs": [],
   "source": [
    "##Create a scatterplot\n",
    "fig = plt.figure(figsize=(20,10))\n",
    "scatter_plot = sns.scatterplot(x=\"hours-per-week\", y=\"age\", hue=\"race\", alpha=.5, palette=\"muted\", data=data)\n",
    "scatter_plot.set_title(\"Scatterplot of Correlation between Age and Work Hours per Week\")\n",
    "scatter_plot.set_xlabel(\"Amount of Work Hours per Week\")\n",
    "scatter_plot.set_ylabel(\"Age (Years)\")\n",
    "\n",
    "## Uncomment the two lines below if you wish to save the graph as an image\n",
    "##graph = scatter_plot.get_figure()\n",
    "##graph.savefig(\"scatter-plot.png\") "
   ]
  },
  {
   "cell_type": "code",
   "execution_count": 7,
   "metadata": {},
   "outputs": [],
   "source": [
    "##Create a bar graph\n",
    "plt.figure(figsize=(25,10))\n",
    "bar_graph = sns.countplot(data=data, x='occupation')\n",
    "\n",
    "bar_graph.set_title(\"Bar Graph of Distribution of Occupations\")\n",
    "\n",
    "\n",
    "## Uncomment the two lines below if you wish to save the graph as an image\n",
    "##graph = bar_graph.get_figure()\n",
    "##graph.savefig(\"bar-graph.png\") "
   ]
  },
  {
   "cell_type": "code",
   "execution_count": null,
   "metadata": {},
   "outputs": [],
   "source": [
    "## Now rid of the education as number\r\n",
    "data.pop('educational-num') # Already provided as a String"
   ]
  },
  {
   "cell_type": "code",
   "execution_count": null,
   "metadata": {},
   "outputs": [],
   "source": [
    "## Calculate Dummy Values for the Data\n",
    "data = pd.get_dummies(data)\n",
    "data.head(5)"
   ]
  },
  {
   "cell_type": "code",
   "execution_count": null,
   "metadata": {},
   "outputs": [],
   "source": [
    "## Extract the Data Label from the Training Set\n",
    "data_labels = np.array(data.pop('income_>50K'))"
   ]
  },
  {
   "cell_type": "code",
   "execution_count": null,
   "metadata": {},
   "outputs": [],
   "source": [
    "## Split our Data into the appropriate sets\n",
    "train, test, train_labels, test_labels = train_test_split(data, data_labels, stratify = data_labels, test_size = 0.25, random_state = 42)"
   ]
  },
  {
   "cell_type": "code",
   "execution_count": null,
   "metadata": {},
   "outputs": [],
   "source": [
    "## Fill in our missing values\n",
    "train = train.fillna(train.mean())\n",
    "test = test.fillna(test.mean())"
   ]
  },
  {
   "cell_type": "code",
   "execution_count": null,
   "metadata": {},
   "outputs": [],
   "source": [
    "## Create our model with 100 trees\n",
    "model = RandomForestClassifier(n_estimators=100, random_state=42, max_features = 'sqrt', n_jobs=-1, verbose = 1)"
   ]
  },
  {
   "cell_type": "code",
   "execution_count": null,
   "metadata": {},
   "outputs": [],
   "source": [
    "## TRAIN THE MODEL!!!\n",
    "model.fit(train, train_labels)"
   ]
  },
  {
   "cell_type": "code",
   "execution_count": null,
   "metadata": {},
   "outputs": [],
   "source": [
    "# Use the forest's predict method on the test data\n",
    "predictions = model.predict(test)\n",
    "# Calculate the absolute errors\n",
    "errors = abs(predictions - test_labels)\n",
    "# Print out the mean absolute error (mae)\n",
    "print('Mean Absolute Error:', round(np.mean(errors), 2), 'degrees.')"
   ]
  },
  {
   "cell_type": "code",
   "execution_count": null,
   "metadata": {},
   "outputs": [],
   "source": [
    "#Export our model so that we can use it in our API\n",
    "import joblib\n",
    "joblib.dump(model, 'model.pkl')"
   ]
  },
  {
   "cell_type": "code",
   "execution_count": null,
   "metadata": {},
   "outputs": [],
   "source": [
    "#Export our model columns.\n",
    "# Necessary, because there would be a LOT of duplicate lines written\n",
    "model_columns = list(train.columns)\n",
    "joblib.dump(model_columns, 'model_columns.pkl')"
   ]
  },
  {
   "cell_type": "code",
   "execution_count": null,
   "metadata": {},
   "outputs": [],
   "source": []
  }
 ],
 "metadata": {
  "kernelspec": {
   "display_name": "Python 3",
   "language": "python",
   "name": "python3"
  },
  "language_info": {
   "codemirror_mode": {
    "name": "ipython",
    "version": 3
   },
   "file_extension": ".py",
   "mimetype": "text/x-python",
   "name": "python",
   "nbconvert_exporter": "python",
   "pygments_lexer": "ipython3",
   "version": "3.8.5"
  }
 },
 "nbformat": 4,
 "nbformat_minor": 4
}